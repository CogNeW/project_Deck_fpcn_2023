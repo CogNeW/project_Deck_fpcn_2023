{
 "cells": [
  {
   "cell_type": "code",
   "execution_count": null,
   "id": "b6d8747d-22aa-4355-b33e-2c8343bb916d",
   "metadata": {},
   "outputs": [],
   "source": [
    "import pandas as pd\n",
    "import numpy as np\n",
    "import seaborn as sns\n",
    "import matplotlib.pyplot as plt\n",
    "from scipy import stats\n",
    "sns.set_style('ticks')\n",
    "sns.set_context(\"notebook\", font_scale=1.5, rc={\"lines.linewidth\": 2.5})"
   ]
  },
  {
   "cell_type": "code",
   "execution_count": null,
   "id": "25c879f2-a97f-47c0-8921-a7fca4771256",
   "metadata": {},
   "outputs": [],
   "source": [
    "# permutation two-way 1 sample t-test\n",
    "def t_statistic(x, axis=-1):\n",
    "    return stats.ttest_1samp(x, popmean=0, axis=axis).statistic\n"
   ]
  },
  {
   "cell_type": "code",
   "execution_count": null,
   "id": "125bdb6d-ff80-4d66-b488-e2448a2a156f",
   "metadata": {},
   "outputs": [],
   "source": [
    "navon_acc = pd.read_csv('Navonshiftcost_ACC_pre.csv')"
   ]
  },
  {
   "cell_type": "code",
   "execution_count": null,
   "id": "dbef7758-c829-4504-9beb-14cffff47f1b",
   "metadata": {},
   "outputs": [],
   "source": [
    "print(stats.sem(navon_acc))\n",
    "print(np.mean(navon_acc))\n",
    "print(stats.ttest_1samp(navon_acc, popmean=0))\n",
    "navon_acct = stats.permutation_test((navon_acc,), t_statistic, permutation_type='samples')\n",
    "print(\"t-stat:\",navon_acct.statistic, 'p-value:',navon_acct.pvalue)"
   ]
  },
  {
   "cell_type": "code",
   "execution_count": null,
   "id": "852dbdd8-d80a-4d64-82d2-ab8fd45e60de",
   "metadata": {},
   "outputs": [],
   "source": [
    "sns.histplot(navon_acc, legend=False, kde=True)\n",
    "plt.xlabel('Shift-Cost Accuracy')\n",
    "sns.despine()"
   ]
  },
  {
   "cell_type": "code",
   "execution_count": null,
   "id": "6e300704-e524-42c1-99cb-22163226af11",
   "metadata": {},
   "outputs": [],
   "source": [
    "navon_rt=pd.read_csv('Navonshiftcost_RT_pre.csv')"
   ]
  },
  {
   "cell_type": "code",
   "execution_count": null,
   "id": "7dc22e43-b66f-40c8-a11e-2049f4d9889c",
   "metadata": {},
   "outputs": [],
   "source": [
    "print(stats.sem(navon_rt))\n",
    "print(np.mean(navon_rt))\n",
    "print(stats.ttest_1samp(navon_rt, popmean=0))\n",
    "navon_rtt = stats.permutation_test((navon_rt,), t_statistic, permutation_type='samples')\n",
    "print(\"t-stat:\",navon_rtt.statistic, 'p-value:',navon_rtt.pvalue)"
   ]
  },
  {
   "cell_type": "code",
   "execution_count": null,
   "id": "a333a392-3c21-4731-8a86-231777dfd198",
   "metadata": {},
   "outputs": [],
   "source": [
    "sns.histplot(navon_rt, legend=False, kde=True)\n",
    "plt.xlabel('Shift-Cost Response Time')\n",
    "sns.despine()"
   ]
  },
  {
   "cell_type": "code",
   "execution_count": null,
   "id": "5c134bb8-3ea6-46b7-a639-8eee52280c99",
   "metadata": {},
   "outputs": [],
   "source": [
    "stroop_acc = pd.read_csv('Stroop_inhibitioncost_ACC_pre.csv')"
   ]
  },
  {
   "cell_type": "code",
   "execution_count": null,
   "id": "bb0dc013-df91-45af-aa9c-5930c40b78a8",
   "metadata": {},
   "outputs": [],
   "source": [
    "print(stats.sem(stroop_acc))\n",
    "print(np.mean(stroop_acc))\n",
    "print(stats.ttest_1samp(stroop_acc, popmean=0))\n",
    "stroop_acct = stats.permutation_test((stroop_acc,), t_statistic, permutation_type='samples')\n",
    "print(\"t-stat:\",stroop_acct.statistic, 'p-value:',stroop_acct.pvalue)"
   ]
  },
  {
   "cell_type": "code",
   "execution_count": null,
   "id": "2d5931a4-dbc2-456d-99b1-ff7e41766fd1",
   "metadata": {},
   "outputs": [],
   "source": [
    "sns.histplot(stroop_acc, legend=False, kde=True)\n",
    "plt.xlabel('Inhibition-Cost Accuracy')\n",
    "sns.despine()"
   ]
  },
  {
   "cell_type": "code",
   "execution_count": null,
   "id": "9fd7742d-3f52-488f-8cc6-9ccaed8d335b",
   "metadata": {},
   "outputs": [],
   "source": [
    "stroop_rt = pd.read_csv('Stroop_inhibitioncost_RT_pre.csv')"
   ]
  },
  {
   "cell_type": "code",
   "execution_count": null,
   "id": "124a40ff-370c-4fae-afa8-e3a056c3bbc7",
   "metadata": {},
   "outputs": [],
   "source": [
    "print(stats.sem(stroop_rt))\n",
    "print(np.mean(stroop_rt))\n",
    "print(stats.ttest_1samp(stroop_rt, popmean=0))\n",
    "stroop_rtt = stats.permutation_test((stroop_rt,), t_statistic, permutation_type='samples')\n",
    "print(\"t-stat:\",stroop_rtt.statistic, 'p-value:',stroop_rtt.pvalue)"
   ]
  },
  {
   "cell_type": "code",
   "execution_count": null,
   "id": "8e274529-305e-48f0-9480-39437920df10",
   "metadata": {},
   "outputs": [],
   "source": [
    "sns.histplot(stroop_rt, legend=False, kde=True)\n",
    "plt.xlabel('Inhibition-Cost Response Time')\n",
    "sns.despine()"
   ]
  },
  {
   "cell_type": "code",
   "execution_count": null,
   "id": "97636e3a-2f60-4cf7-bfb6-3b2c4472cd1f",
   "metadata": {},
   "outputs": [],
   "source": []
  }
 ],
 "metadata": {
  "kernelspec": {
   "display_name": "Python 3 (ipykernel)",
   "language": "python",
   "name": "python3"
  },
  "language_info": {
   "codemirror_mode": {
    "name": "ipython",
    "version": 3
   },
   "file_extension": ".py",
   "mimetype": "text/x-python",
   "name": "python",
   "nbconvert_exporter": "python",
   "pygments_lexer": "ipython3",
   "version": "3.9.16"
  }
 },
 "nbformat": 4,
 "nbformat_minor": 5
}
